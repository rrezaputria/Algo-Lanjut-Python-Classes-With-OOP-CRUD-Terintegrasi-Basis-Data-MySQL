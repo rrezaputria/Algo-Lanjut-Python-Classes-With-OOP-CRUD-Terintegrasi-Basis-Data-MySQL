{
 "cells": [
  {
   "cell_type": "markdown",
   "id": "24df2578",
   "metadata": {},
   "source": [
    "# Python Classes With OOP CRUD Terintegrasi Ke Basis Data MySQL"
   ]
  },
  {
   "cell_type": "code",
   "execution_count": 20,
   "id": "57f234b2",
   "metadata": {},
   "outputs": [],
   "source": [
    "import mysql.connector"
   ]
  },
  {
   "cell_type": "code",
   "execution_count": 21,
   "id": "5935ba05",
   "metadata": {},
   "outputs": [],
   "source": [
    "class Database:\n",
    "    my_db = my_cursor = None\n",
    "    \n",
    "    def __init__(self):\n",
    "        global my_db, my_cursor\n",
    "        my_db = mysql.connector.connect(\n",
    "            host = \"localhost\",\n",
    "            user = \"root\",\n",
    "            password = \"\",\n",
    "            database = \"travel_tour_agen\"\n",
    "        )\n",
    "        my_cursor = my_db.cursor()\n",
    "        \n",
    "        \n",
    "    def __del__(self):\n",
    "        my_db.commit()"
   ]
  },
  {
   "cell_type": "code",
   "execution_count": 22,
   "id": "bdb72445",
   "metadata": {},
   "outputs": [],
   "source": [
    "db = Database()"
   ]
  },
  {
   "cell_type": "markdown",
   "id": "a8e904de",
   "metadata": {},
   "source": [
    "# Package Class Agen"
   ]
  },
  {
   "cell_type": "code",
   "execution_count": 3,
   "id": "c82c339d",
   "metadata": {},
   "outputs": [],
   "source": [
    "#package class agen\n",
    "\n",
    "class package_class_agen(Database):\n",
    "    \n",
    "    \n",
    "    #create\n",
    "    def create_package(self, data):\n",
    "        sql = \"INSERT INTO package_class_agen (name_package, duration_package, destination_package) VALUES (%s, %s, %s)\"\n",
    "        \n",
    "        try:\n",
    "            my_cursor.execute(sql, data)\n",
    "            my_db.commit()\n",
    "            print(my_cursor.rowcount, \"catatan di rekam.\")\n",
    "        \n",
    "        except Exception as e:\n",
    "            return e\n",
    "        \n",
    "        return my_cursor.lastrowid\n",
    "    \n",
    "    \n",
    "    #create many package\n",
    "    def create_many_package(self, data):\n",
    "        sql = \"INSERT INTO package_class_agen (name_package, duration_package, destination_package) VALUES (%s, %s, %s)\"\n",
    "        \n",
    "        try:\n",
    "            my_cursor.executemany(sql, data)\n",
    "            my_db.commit()\n",
    "            print(my_cursor.rowcount, \"catatan di rekam.\")\n",
    "            \n",
    "        except Exception as e:\n",
    "            return e\n",
    "    \n",
    "    #read\n",
    "    def read_package(self, mode = \"DESC\"):\n",
    "        sql = \"SELECT * FROM package_class_agen ORDER BY id_package {}\".format(mode)\n",
    "        \n",
    "        try:\n",
    "            my_cursor.execute(sql)\n",
    "            result = my_cursor.fetchall()\n",
    "            \n",
    "        except Exception as e:\n",
    "            return e\n",
    "        \n",
    "        return result\n",
    "    \n",
    "    #update\n",
    "    def update_package(self, id, data):\n",
    "        sql = \"UPDATE package_class_agen SET name_package = %s, duration_package = %s, destination_package = %s WHERE id_package = {}\".format(id)\n",
    "        val = (data[0], data[1], data[2])\n",
    "        \n",
    "        try:\n",
    "            my_cursor.execute(sql, val)\n",
    "            my_db.commit()\n",
    "            print(my_cursor.rowcount, \"catatan di perbarui.\")\n",
    "        \n",
    "        except Exception as e:\n",
    "            return e\n",
    "    \n",
    "    #delete\n",
    "    def delete_package(self, id):\n",
    "        sql = \"DELETE FROM package_class_agen WHERE id_package = {}\".format(id)\n",
    "        \n",
    "        try:\n",
    "            my_cursor.execute(sql)\n",
    "            my_db.commit()\n",
    "            print(my_cursor.rowcount, \"catatan di hapus.\")\n",
    "            \n",
    "        except Exception as e:\n",
    "            return e\n",
    "        \n",
    "    #delete tabel \n",
    "    def truncate(self):\n",
    "        sql = \"TRUNCATE TABLE package_class_agen\"\n",
    "        \n",
    "        try:\n",
    "            my_cursor.excecute(sql)\n",
    "            my_db.commit()\n",
    "            \n",
    "        except Exception as e:\n",
    "            return e\n",
    "        \n",
    "        return True"
   ]
  },
  {
   "cell_type": "markdown",
   "id": "acc5136a",
   "metadata": {},
   "source": [
    "Create (Menambahkan) Package Class"
   ]
  },
  {
   "cell_type": "code",
   "execution_count": 4,
   "id": "1112d33f",
   "metadata": {},
   "outputs": [
    {
     "name": "stdout",
     "output_type": "stream",
     "text": [
      "1 catatan di rekam.\n"
     ]
    },
    {
     "data": {
      "text/plain": [
       "2"
      ]
     },
     "execution_count": 4,
     "metadata": {},
     "output_type": "execute_result"
    }
   ],
   "source": [
    "#create single package\n",
    "\n",
    "pc = package_class_agen()\n",
    "\n",
    "data = (\"Group Tour\", 3, \"Dinding Friwen, Kabui Passage, Dermaga Pulau\")\n",
    "\n",
    "pc.create_package(data)"
   ]
  },
  {
   "cell_type": "markdown",
   "id": "0cab0881",
   "metadata": {},
   "source": [
    "Create(Menambahkan) Many Package Class"
   ]
  },
  {
   "cell_type": "code",
   "execution_count": 5,
   "id": "1b6c568f",
   "metadata": {},
   "outputs": [
    {
     "name": "stdout",
     "output_type": "stream",
     "text": [
      "2 catatan di rekam.\n",
      "[(4, 'Asian Tour', 7, 'Skardu, Dalat, Davao'), (3, 'Together Tour', 4, 'Tanah Lot, Bedugul, Pantai Balangan'), (2, 'Group Tour', 3, 'Dinding Friwen, Kabui Passage, Dermaga Pulau'), (1, 'Independent Tour', 1, 'Pantai Trikora, Pulau Penyengat, Danau Biru')]\n"
     ]
    }
   ],
   "source": [
    "#create and read many package\n",
    "\n",
    "pc = package_class_agen()\n",
    "\n",
    "data = [\n",
    "    (\"Together Tour\", 4, \"Tanah Lot, Bedugul, Pantai Balangan\"),\n",
    "    (\"Asian Tour\", 7, \"Skardu, Dalat, Davao\")\n",
    "\n",
    "]\n",
    "\n",
    "pc.create_many_package(data)\n",
    "\n",
    "print(pc.read_package())"
   ]
  },
  {
   "cell_type": "markdown",
   "id": "d7bd7142",
   "metadata": {},
   "source": [
    "Update (Memperbarui) Package Class"
   ]
  },
  {
   "cell_type": "code",
   "execution_count": 11,
   "id": "cc564c28",
   "metadata": {},
   "outputs": [
    {
     "name": "stdout",
     "output_type": "stream",
     "text": [
      "1 catatan di perbarui.\n"
     ]
    }
   ],
   "source": [
    "#update package\n",
    "\n",
    "pc = package_class_agen()\n",
    "\n",
    "pc.update_package(3, (\"Afrika Tour\", 6, \"Freedom, Amboseli, Masai Mara\"))"
   ]
  },
  {
   "cell_type": "markdown",
   "id": "2aa90bad",
   "metadata": {},
   "source": [
    "Read (Membaca/Menampilkan) Package Class"
   ]
  },
  {
   "cell_type": "code",
   "execution_count": 13,
   "id": "f5312ec8",
   "metadata": {},
   "outputs": [
    {
     "data": {
      "text/plain": [
       "[(4, 'Asian Tour', 7, 'Skardu, Dalat, Davao'),\n",
       " (3, 'Afrika Tour', 6, 'Freedom, Amboseli, Masai Mara'),\n",
       " (2, 'Group Tour', 3, 'Dinding Friwen, Kabui Passage, Dermaga Pulau'),\n",
       " (1, 'Independent Tour', 1, 'Pantai Trikora, Pulau Penyengat, Danau Biru')]"
      ]
     },
     "execution_count": 13,
     "metadata": {},
     "output_type": "execute_result"
    }
   ],
   "source": [
    "#read package\n",
    "\n",
    "pc = package_class_agen()\n",
    "\n",
    "pc.read_package()"
   ]
  },
  {
   "cell_type": "markdown",
   "id": "b8edaee7",
   "metadata": {},
   "source": [
    "Delete (Menghapus) Package Class"
   ]
  },
  {
   "cell_type": "code",
   "execution_count": 14,
   "id": "fe0d1255",
   "metadata": {},
   "outputs": [
    {
     "name": "stdout",
     "output_type": "stream",
     "text": [
      "1 catatan di hapus.\n"
     ]
    }
   ],
   "source": [
    "#delete_package\n",
    "\n",
    "db = Database()\n",
    "pc = package_class_agen()\n",
    "\n",
    "pc.delete_package(4)"
   ]
  },
  {
   "cell_type": "markdown",
   "id": "9a9d65b6",
   "metadata": {},
   "source": [
    "# Tour Guide Agen"
   ]
  },
  {
   "cell_type": "code",
   "execution_count": 23,
   "id": "04307b5a",
   "metadata": {},
   "outputs": [],
   "source": [
    "#tour guide agen\n",
    "\n",
    "class tour_guide_agen(Database):\n",
    "    \n",
    "    #create\n",
    "    def create_guide(self, data):\n",
    "        sql = \"INSERT INTO tour_guide_agen (name_guide, phone_number_guide, years_service_guide, id_package) VALUES (%s, %s, %s, %s)\"\n",
    "        \n",
    "        try:\n",
    "            my_cursor.execute(sql, data)\n",
    "            my_db.commit()\n",
    "            print(my_cursor.rowcount, \"catatan di rekam.\")\n",
    "        \n",
    "        except Exception as e:\n",
    "            return e\n",
    "        \n",
    "        return my_cursor.lastrowid\n",
    "    \n",
    "    \n",
    "    #create many guide\n",
    "    def create_many_guide(self, data):\n",
    "        sql = \"INSERT INTO tour_guide_agen (name_guide, phone_number_guide, years_service_guide, id_package) VALUES (%s, %s, %s, %s)\"\n",
    "        \n",
    "        try:\n",
    "            my_cursor.executemany(sql, data)\n",
    "            my_db.commit()\n",
    "            print(my_cursor.rowcount, \"catatan di rekam.\")\n",
    "            \n",
    "        except Exception as e:\n",
    "            return e\n",
    "        \n",
    "    #read\n",
    "    def read_guide(self, mode = \"DESC\"):\n",
    "        sql = \"SELECT * FROM tour_guide_agen ORDER BY id_package {}\".format(mode)\n",
    "        \n",
    "        try:\n",
    "            my_cursor.execute(sql)\n",
    "            result = my_cursor.fetchall()\n",
    "            \n",
    "        except Exception as e:\n",
    "            return e\n",
    "        \n",
    "        return result\n",
    "    \n",
    "    #update\n",
    "    def update_guide(self, id, data):\n",
    "        sql = \"UPDATE tour_guide_agen SET name_guide = %s, phone_number_guide = %s, years_service_guide = %s, id_package = %s WHERE id_package = {}\".format(id)\n",
    "        val = (data[0], data[1], data[2], data[3])\n",
    "        \n",
    "        try:\n",
    "            my_cursor.execute(sql, val)\n",
    "            my_db.commit()\n",
    "            print(my_cursor.rowcount, \"catatan di perbarui.\")\n",
    "            \n",
    "        except Exception as e:\n",
    "            return e\n",
    "        \n",
    "    #delete\n",
    "    def delete_guide(self, id):\n",
    "        sql = \"DELETE FROM tour_guide_agen WHERE id_package = {}\".format(id)\n",
    "        \n",
    "        try:\n",
    "            my_cursor.execute(sql)\n",
    "            my_db.commit()\n",
    "            print(my_cursor.rowcount, \"catatan di hapus.\")\n",
    "        \n",
    "        except Exception as e:\n",
    "            return e\n",
    "        "
   ]
  },
  {
   "cell_type": "markdown",
   "id": "e9298ca9",
   "metadata": {},
   "source": [
    "Create (Menambahkan) Tour Guide"
   ]
  },
  {
   "cell_type": "code",
   "execution_count": 24,
   "id": "4b7b8061",
   "metadata": {},
   "outputs": [
    {
     "name": "stdout",
     "output_type": "stream",
     "text": [
      "1 catatan di rekam.\n"
     ]
    },
    {
     "data": {
      "text/plain": [
       "2"
      ]
     },
     "execution_count": 24,
     "metadata": {},
     "output_type": "execute_result"
    }
   ],
   "source": [
    "#create single guide\n",
    "\n",
    "gd = tour_guide_agen()\n",
    "\n",
    "data = (\"Nathania Aprilia\", \"+62778982145\", 5, 2)\n",
    "         \n",
    "gd.create_guide(data)"
   ]
  },
  {
   "cell_type": "markdown",
   "id": "0a0573b8",
   "metadata": {},
   "source": [
    "Create (Menambahkan) Many Tour Guide"
   ]
  },
  {
   "cell_type": "code",
   "execution_count": 25,
   "id": "fda138d0",
   "metadata": {},
   "outputs": [
    {
     "name": "stdout",
     "output_type": "stream",
     "text": [
      "2 catatan di rekam.\n",
      "[(4, 'Florencia Augusta', '+6253416177871', 7, 3), (2, 'Nathania Aprilia', '+62778982145', 5, 2), (1, 'Ayranka Olanza', '+62888987672', 1, 1), (3, 'Apriole Cendekia', '+6288371645678', 2, 1)]\n"
     ]
    }
   ],
   "source": [
    "#create many guide\n",
    "\n",
    "gd = tour_guide_agen()\n",
    "\n",
    "data = [\n",
    "    (\"Apriole Cendekia\", \"+6288371645678\", 2, 1),\n",
    "    (\"Florencia Augusta\", \"+6253416177871\", 7, 3)\n",
    "    \n",
    "]\n",
    "\n",
    "gd.create_many_guide(data)\n",
    "print(gd.read_guide())"
   ]
  },
  {
   "cell_type": "markdown",
   "id": "63099001",
   "metadata": {},
   "source": [
    "Update (Memperbarui) Tour Guide"
   ]
  },
  {
   "cell_type": "code",
   "execution_count": 26,
   "id": "54306836",
   "metadata": {},
   "outputs": [
    {
     "name": "stdout",
     "output_type": "stream",
     "text": [
      "1 catatan di perbarui.\n"
     ]
    }
   ],
   "source": [
    "#update guide\n",
    "\n",
    "gd = tour_guide_agen()\n",
    "\n",
    "gd.update_guide(2, (\"Rizkiya Sugita\", \"+62887651231\", 6, 2))"
   ]
  },
  {
   "cell_type": "markdown",
   "id": "3276b560",
   "metadata": {},
   "source": [
    "Read (Membaca/Menampilkan) Tour Guide"
   ]
  },
  {
   "cell_type": "code",
   "execution_count": 27,
   "id": "74711280",
   "metadata": {},
   "outputs": [
    {
     "data": {
      "text/plain": [
       "[(4, 'Florencia Augusta', '+6253416177871', 7, 3),\n",
       " (2, 'Rizkiya Sugita', '+62887651231', 6, 2),\n",
       " (1, 'Ayranka Olanza', '+62888987672', 1, 1),\n",
       " (3, 'Apriole Cendekia', '+6288371645678', 2, 1)]"
      ]
     },
     "execution_count": 27,
     "metadata": {},
     "output_type": "execute_result"
    }
   ],
   "source": [
    "#read guide\n",
    "\n",
    "gd = tour_guide_agen()\n",
    "\n",
    "gd.read_guide()"
   ]
  },
  {
   "cell_type": "markdown",
   "id": "4c37876e",
   "metadata": {},
   "source": [
    "Delete (Menghapus) Tour Guide"
   ]
  },
  {
   "cell_type": "code",
   "execution_count": 28,
   "id": "152b3ef2",
   "metadata": {},
   "outputs": [
    {
     "name": "stdout",
     "output_type": "stream",
     "text": [
      "1 catatan di hapus.\n"
     ]
    }
   ],
   "source": [
    "#delete guide\n",
    "\n",
    "gd = tour_guide_agen()\n",
    "\n",
    "gd.delete_guide(3)"
   ]
  },
  {
   "cell_type": "markdown",
   "id": "f2fa8f0a",
   "metadata": {},
   "source": [
    "# Travel Customers Agen"
   ]
  },
  {
   "cell_type": "code",
   "execution_count": 29,
   "id": "6ba89a99",
   "metadata": {},
   "outputs": [],
   "source": [
    "#travel customers agen\n",
    "\n",
    "class travel_customers_agen(Database):\n",
    "    \n",
    "    \n",
    "    #create\n",
    "    def create_customers(self, data):\n",
    "        sql = \"INSERT INTO travel_customers_agen (name_customers, phone_number_customers, payment_customers, id_package) VALUES (%s, %s, %s, %s)\"\n",
    "        \n",
    "        try:\n",
    "            my_cursor.execute(sql, data)\n",
    "            my_db.commit()\n",
    "            print(my_cursor.rowcount, \"catatan di rekam.\")\n",
    "        \n",
    "        except Exception as e:\n",
    "            return e\n",
    "        \n",
    "        return my_cursor.lastrowid\n",
    "    \n",
    "    \n",
    "    #create many customers\n",
    "    def create_many_customers(self, data):\n",
    "        sql = \"INSERT INTO travel_customers_agen (name_customers, phone_number_customers, payment_customers, id_package) VALUES (%s, %s, %s, %s)\"\n",
    "        \n",
    "        try:\n",
    "            my_cursor.executemany(sql, data)\n",
    "            my_db.commit()\n",
    "            print(my_cursor.rowcount, \"catatan di rekam.\")\n",
    "            \n",
    "        except Exception as e:\n",
    "            return e\n",
    "        \n",
    "    #read\n",
    "    def read_customers(self, mode = \"DESC\"):\n",
    "        sql = \"SELECT * FROM travel_customers_agen ORDER BY id_package {}\".format(mode)\n",
    "        \n",
    "        try:\n",
    "            my_cursor.execute(sql)\n",
    "            result = my_cursor.fetchall()\n",
    "        \n",
    "        except Exception as e:\n",
    "            return e\n",
    "        \n",
    "        return result\n",
    "    \n",
    "    #update\n",
    "    def update_customers(self, id, data):\n",
    "        sql = \"UPDATE travel_customers_agen SET name_customers = %s, phone_number_customers = %s, payment_customers = %s, id_package = %s WHERE id_package = {}\".format(id)\n",
    "        val = (data[0], data[1], data[2], data[3])\n",
    "        \n",
    "        try:\n",
    "            my_cursor.execute(sql, val)\n",
    "            my_db.commit()\n",
    "            print(my_cursor.rowcount, \"catatan di perbarui.\")\n",
    "        \n",
    "        except Exception as e:\n",
    "            return e\n",
    "        \n",
    "    #delete\n",
    "    def delete_customers(self, id):\n",
    "        sql = \"DELETE FROM travel_customers_agen WHERE id_package = {}\".format(id)\n",
    "        \n",
    "        try:\n",
    "            my_cursor.execute(sql)\n",
    "            my_db.commit()\n",
    "            print(my_cursor.rowcount, \"catatan di hapus.\")\n",
    "            \n",
    "        except Exception as e:\n",
    "            return e"
   ]
  },
  {
   "cell_type": "markdown",
   "id": "9f4451a4",
   "metadata": {},
   "source": [
    "Create (Menambahkan) Travel Customers"
   ]
  },
  {
   "cell_type": "code",
   "execution_count": 30,
   "id": "86899b52",
   "metadata": {},
   "outputs": [
    {
     "name": "stdout",
     "output_type": "stream",
     "text": [
      "1 catatan di rekam.\n"
     ]
    },
    {
     "data": {
      "text/plain": [
       "2"
      ]
     },
     "execution_count": 30,
     "metadata": {},
     "output_type": "execute_result"
    }
   ],
   "source": [
    "#create single customers\n",
    "\n",
    "sc = travel_customers_agen()\n",
    "\n",
    "data = (\"Andini Cantika\", \"+628890291829\", \"Cashless\", 2)\n",
    "\n",
    "sc.create_customers(data)"
   ]
  },
  {
   "cell_type": "markdown",
   "id": "f9d60298",
   "metadata": {},
   "source": [
    "Create (Menambahkan) Many Travel Customers"
   ]
  },
  {
   "cell_type": "code",
   "execution_count": 31,
   "id": "18d371f7",
   "metadata": {},
   "outputs": [
    {
     "name": "stdout",
     "output_type": "stream",
     "text": [
      "2 catatan di rekam.\n",
      "[(4, 'Aswhent Shintia', '+6288902928172', 'Cash', 3), (2, 'Andini Cantika', '+628890291829', 'Cashless', 2), (3, 'Garindra Reksa', '+6287892018282', 'Cashless', 2), (1, 'Kienan Wardani', '+6288098271613', 'Cash', 1)]\n"
     ]
    }
   ],
   "source": [
    "#create and read many customers\n",
    "\n",
    "sc = travel_customers_agen()\n",
    "\n",
    "data = [\n",
    "    (\"Garindra Reksa\", \"+6287892018282\", \"Cashless\", 2),\n",
    "    (\"Aswhent Shintia\", \"+6288902928172\", \"Cash\", 3)\n",
    "    \n",
    "]\n",
    "\n",
    "sc.create_many_customers(data)\n",
    "\n",
    "print(sc.read_customers())"
   ]
  },
  {
   "cell_type": "markdown",
   "id": "ef5d624e",
   "metadata": {},
   "source": [
    "Update (Memperbarui) Travel Customers"
   ]
  },
  {
   "cell_type": "code",
   "execution_count": 32,
   "id": "e5fa3b6e",
   "metadata": {},
   "outputs": [
    {
     "name": "stdout",
     "output_type": "stream",
     "text": [
      "1 catatan di perbarui.\n"
     ]
    }
   ],
   "source": [
    "#update customers\n",
    "\n",
    "sc = travel_customers_agen()\n",
    "\n",
    "sc.update_customers(1, (\"Hanna Laila\", \"+6288902928172\", \"Cashless\", 2))"
   ]
  },
  {
   "cell_type": "markdown",
   "id": "aaf76ccd",
   "metadata": {},
   "source": [
    "Read (Membaca/Menampilkan) Travel Customers"
   ]
  },
  {
   "cell_type": "code",
   "execution_count": 33,
   "id": "5bcc50e2",
   "metadata": {},
   "outputs": [
    {
     "data": {
      "text/plain": [
       "[(4, 'Aswhent Shintia', '+6288902928172', 'Cash', 3),\n",
       " (1, 'Hanna Laila', '+6288902928172', 'Cashless', 2),\n",
       " (2, 'Andini Cantika', '+628890291829', 'Cashless', 2),\n",
       " (3, 'Garindra Reksa', '+6287892018282', 'Cashless', 2)]"
      ]
     },
     "execution_count": 33,
     "metadata": {},
     "output_type": "execute_result"
    }
   ],
   "source": [
    "#read customers\n",
    "\n",
    "sc = travel_customers_agen()\n",
    "\n",
    "sc.read_customers()"
   ]
  },
  {
   "cell_type": "markdown",
   "id": "6959a85a",
   "metadata": {},
   "source": [
    "Delete (Menghapus) Travel Customers"
   ]
  },
  {
   "cell_type": "code",
   "execution_count": 34,
   "id": "b5a87f10",
   "metadata": {},
   "outputs": [
    {
     "name": "stdout",
     "output_type": "stream",
     "text": [
      "1 catatan di hapus.\n"
     ]
    }
   ],
   "source": [
    "#delete customers\n",
    "\n",
    "sc = travel_customers_agen()\n",
    "\n",
    "sc.delete_customers(3)"
   ]
  }
 ],
 "metadata": {
  "kernelspec": {
   "display_name": "Python 3 (ipykernel)",
   "language": "python",
   "name": "python3"
  },
  "language_info": {
   "codemirror_mode": {
    "name": "ipython",
    "version": 3
   },
   "file_extension": ".py",
   "mimetype": "text/x-python",
   "name": "python",
   "nbconvert_exporter": "python",
   "pygments_lexer": "ipython3",
   "version": "3.9.12"
  }
 },
 "nbformat": 4,
 "nbformat_minor": 5
}
